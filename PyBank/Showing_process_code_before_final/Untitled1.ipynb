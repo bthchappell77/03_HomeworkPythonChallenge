{
 "cells": [
  {
   "cell_type": "code",
   "execution_count": 1,
   "metadata": {},
   "outputs": [
    {
     "ename": "TypeError",
     "evalue": "'int' object is not callable",
     "output_type": "error",
     "traceback": [
      "\u001b[1;31m---------------------------------------------------------------------------\u001b[0m",
      "\u001b[1;31mTypeError\u001b[0m                                 Traceback (most recent call last)",
      "\u001b[1;32m<ipython-input-1-f2a1dabcb49e>\u001b[0m in \u001b[0;36m<module>\u001b[1;34m\u001b[0m\n\u001b[0;32m     33\u001b[0m \u001b[1;33m\u001b[0m\u001b[0m\n\u001b[0;32m     34\u001b[0m     \u001b[1;32mfor\u001b[0m \u001b[0mi\u001b[0m \u001b[1;32min\u001b[0m \u001b[0mcsvreader\u001b[0m\u001b[1;33m:\u001b[0m\u001b[1;33m\u001b[0m\u001b[1;33m\u001b[0m\u001b[0m\n\u001b[1;32m---> 35\u001b[1;33m         \u001b[0mprofit\u001b[0m \u001b[1;33m=\u001b[0m \u001b[1;33m(\u001b[0m\u001b[0mline\u001b[0m\u001b[1;33m(\u001b[0m\u001b[1;34m\"Profit/Losses\"\u001b[0m\u001b[1;33m)\u001b[0m\u001b[1;33m)\u001b[0m\u001b[1;33m\u001b[0m\u001b[1;33m\u001b[0m\u001b[0m\n\u001b[0m\u001b[0;32m     36\u001b[0m         \u001b[0mcur_month\u001b[0m \u001b[1;33m=\u001b[0m \u001b[0mline\u001b[0m\u001b[1;33m[\u001b[0m\u001b[1;34m\"Date\"\u001b[0m\u001b[1;33m]\u001b[0m\u001b[1;33m\u001b[0m\u001b[1;33m\u001b[0m\u001b[0m\n\u001b[0;32m     37\u001b[0m         \u001b[1;31m#this line handles the very first row being ignored I think.\u001b[0m\u001b[1;33m\u001b[0m\u001b[1;33m\u001b[0m\u001b[1;33m\u001b[0m\u001b[0m\n",
      "\u001b[1;31mTypeError\u001b[0m: 'int' object is not callable"
     ]
    }
   ],
   "source": [
    "# call in modules for easy reading\n",
    "import csv\n",
    "import os\n",
    "\n",
    "# save the output file path and map to location\n",
    "csvpathbudget = os.path.join(\"python_bank_data.csv\")\n",
    "\n",
    "#open the file in this manner to only have it open while using\n",
    "with open(csvpathbudget,newline=\"\") as file_handler:\n",
    "    csvreader = csv.reader(file_handler, delimiter=\",\")\n",
    "   \n",
    "\n",
    "    #name the variables\n",
    "    # use none to deal with increments! \n",
    "    # \"\" is empty string, [] is empty list\n",
    "    # all those examples are empty\n",
    "    # 0 is something - NOT NONE\n",
    "\n",
    "    max_profit = None\n",
    "    max_loss = None\n",
    "    total = 0\n",
    "    tot_delt = 0\n",
    "    delta = 0\n",
    "    avg_delt = 0\n",
    "    last_profit = None\n",
    "    profit = 0\n",
    "    cur_month = None\n",
    "    max_month = None\n",
    "    min_month = None\n",
    "    line = 0\n",
    "    \n",
    "    # MAKE THE LOOP - to create the list you can append in the loop but\n",
    "    \n",
    "    for i in csvreader:\n",
    "        profit = (line(\"Profit/Losses\"))\n",
    "        cur_month = line[\"Date\"]\n",
    "        #this line handles the very first row being ignored I think.\n",
    "        if last_profit !=None:\n",
    "            delta = profit - last_profit\n",
    "        # the next line uses the following tools \n",
    "        # != (not equal) | : means (then)\n",
    "        if last_profit != None:\n",
    "           tot_delt = tot_delt + delta\n",
    "           last_profit = profit\n",
    "        if last_profit == None:\n",
    "           total = total + profit\n",
    "        if max_profit == None or max_profit < delta:\n",
    "           max_profit = delta\n",
    "           max_month = cur_month\n",
    "        if max_loss == None or max_loss > delta:\n",
    "           max_loss = delta\n",
    "           min_month = cur_month\n",
    "        last_profit = profit\n",
    "\n",
    "#Count the rows\n",
    "    file_handler.seek()\n",
    "    row_count = sum(1 for i in csvreader)\n",
    "    row_count = row_count - 1\n",
    "\n",
    "    avg_delt = tot_delt / (row_count-1)\n",
    "\n",
    "    #Display\n",
    "    print(\"Financial Analysis\")\n",
    "    print(\"------------------------------\")\n",
    "    print(f\"Total Months: {row_count}\")\n",
    "    print(f\"Total: ${total}\")\n",
    "    print(f\"Average Change: {f(avg_delt)}\")\n",
    "    print(f\"Greatest Increase in Profits: {max_month}\\({max_profit})\")\n",
    "    print(f\"Greatest Decrease in Profits: {min_month}\\({max_profit})\")\n"
   ]
  },
  {
   "cell_type": "code",
   "execution_count": null,
   "metadata": {},
   "outputs": [],
   "source": []
  },
  {
   "cell_type": "code",
   "execution_count": null,
   "metadata": {},
   "outputs": [],
   "source": []
  }
 ],
 "metadata": {
  "kernelspec": {
   "display_name": "Python 3",
   "language": "python",
   "name": "python3"
  },
  "language_info": {
   "codemirror_mode": {
    "name": "ipython",
    "version": 3
   },
   "file_extension": ".py",
   "mimetype": "text/x-python",
   "name": "python",
   "nbconvert_exporter": "python",
   "pygments_lexer": "ipython3",
   "version": "3.6.9"
  }
 },
 "nbformat": 4,
 "nbformat_minor": 2
}
